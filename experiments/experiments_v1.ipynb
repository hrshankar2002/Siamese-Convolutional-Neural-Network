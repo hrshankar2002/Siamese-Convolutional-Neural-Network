{
 "cells": [
  {
   "cell_type": "code",
   "execution_count": null,
   "metadata": {},
   "outputs": [],
   "source": [
    "import scipy.io as scio\n",
    "import matplotlib.pyplot as plt\n",
    "\n",
    "# Path to your .mat file\n",
    "mat_file_path = 'path/to/your/file.mat'\n",
    "\n",
    "# Load the .mat file\n",
    "data = scio.loadmat(mat_file_path)\n",
    "\n",
    "# Extract the ECG signal (assuming the variable name is 'val')\n",
    "# Adjust the key name based on your .mat file structure\n",
    "ecg_signal = data['coef'][1]\n",
    "\n",
    "# If the data is in a nested structure, you might need to index further\n",
    "# For example, if 'val' contains nested arrays:\n",
    "# ecg_signal = ecg_signal[0] \n",
    "\n",
    "# Plot the ECG signal\n",
    "plt.figure(figsize=(12, 6))\n",
    "plt.plot(ecg_signal)\n",
    "plt.title('ECG Signal')\n",
    "plt.xlabel('Sample Number')\n",
    "plt.ylabel('Amplitude')\n",
    "plt.grid(True)\n",
    "plt.show()\n"
   ]
  },
  {
   "cell_type": "code",
   "execution_count": null,
   "metadata": {},
   "outputs": [],
   "source": [
    "import scipy.io as scio\n",
    "\n",
    "# Path to your .mat file\n",
    "mat_file_path = 'path/to/your/file.mat'\n",
    "\n",
    "# Load the .mat file\n",
    "data = scio.loadmat(mat_file_path)\n",
    "\n",
    "# Print the keys in the dictionary\n",
    "print(data.keys())\n",
    "data['coef'].shape\n"
   ]
  },
  {
   "cell_type": "code",
   "execution_count": null,
   "metadata": {},
   "outputs": [],
   "source": [
    "import scipy.io as scio\n",
    "\n",
    "# Path to your .mat file\n",
    "mat_file_path = 'path/to/your/file.mat'\n",
    "\n",
    "# Load the .mat file\n",
    "data = scio.loadmat(mat_file_path)\n",
    "\n",
    "# Print the keys in the dictionary\n",
    "print(data.keys())\n",
    "data['val']"
   ]
  },
  {
   "cell_type": "code",
   "execution_count": null,
   "metadata": {},
   "outputs": [],
   "source": [
    "import os\n",
    "import numpy as np\n",
    "\n",
    "base_path = './'\n",
    "dataset_path =  'path to dataset' # Training data\n",
    "\n",
    "classes = ['NSR', 'APB', 'AFL', 'AFIB', 'SVTA', 'WPW','PVC', 'Bigeminy', 'Trigeminy', \n",
    "           'VT', 'IVR', 'VFL', 'Fusion', 'LBBBB', 'RBBBB', 'SDHB', 'PR']\n",
    "ClassesNum = len(classes)\n",
    "\n",
    "X = list()\n",
    "y = list()\n",
    "\n",
    "for root, dirs, files in os.walk(dataset_path, topdown=False):\n",
    "    for name in files:\n",
    "    \n",
    "        data_train = scio.loadmat(os.path.join(root, name))\n",
    "        \n",
    "        # arr -> list\n",
    "        data_arr = data_train.get('val')\n",
    "        \n",
    "        data_list = data_arr.tolist()\n",
    "       \n",
    "        X.append(data_list[0]) # [[……]] -> [ ]\n",
    "        y.append(int(os.path.basename(root)[0:2]) - 1)  # name -> num('02' -> 1)\n",
    "    \n",
    "X=np.array(X) # (1000, 3600)\n",
    "y=np.array(y) # (1000, )\n",
    "X.shape, y.shape"
   ]
  }
 ],
 "metadata": {
  "kernelspec": {
   "display_name": "base",
   "language": "python",
   "name": "python3"
  },
  "language_info": {
   "codemirror_mode": {
    "name": "ipython",
    "version": 3
   },
   "file_extension": ".py",
   "mimetype": "text/x-python",
   "name": "python",
   "nbconvert_exporter": "python",
   "pygments_lexer": "ipython3",
   "version": "3.10.13"
  }
 },
 "nbformat": 4,
 "nbformat_minor": 2
}
